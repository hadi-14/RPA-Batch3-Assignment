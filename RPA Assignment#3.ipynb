{
 "cells": [
  {
   "cell_type": "code",
   "execution_count": 31,
   "id": "4c14891c",
   "metadata": {},
   "outputs": [
    {
     "name": "stdout",
     "output_type": "stream",
     "text": [
      "Enter your email ID: sarimzahid8@gmail.com\n",
      "Enter your password: 1\n",
      "incorrect password\n"
     ]
    }
   ],
   "source": [
    "emails_list = ['danishumer1@gmail.com','ahmedraza2@gmail.com','abdullahalvi3@gmail.com','hamzaahmed4@gmail.com','faraz5@gmail.com','zainbabur6@gmail.com','harisali7@gmail.com','sarimzahid8@gmail.com','bilalarshad9@gmail.com']\n",
    "passwords_list = [11111111,22222222,33333333,44444444,55555555,66666666,77777777,88888888,99999999]\n",
    "\n",
    "email_id = input(\"Enter your email ID: \")\n",
    "password = int(input(\"Enter your password: \"))\n",
    "\n",
    "if email_id in emails_list:\n",
    "    for x in range(len(emails_list)):\n",
    "        if email_id == emails_list[x] and password == passwords_list[x]:\n",
    "            print('succesfully loged in')\n",
    "            break\n",
    "        elif x == len(emails_list) - 1:\n",
    "            print('incorrect password')\n",
    "else:\n",
    "    print('email not registered')\n"
   ]
  },
  {
   "cell_type": "code",
   "execution_count": null,
   "id": "2c9c0835",
   "metadata": {},
   "outputs": [],
   "source": []
  }
 ],
 "metadata": {
  "kernelspec": {
   "display_name": "Python 3 (ipykernel)",
   "language": "python",
   "name": "python3"
  },
  "language_info": {
   "codemirror_mode": {
    "name": "ipython",
    "version": 3
   },
   "file_extension": ".py",
   "mimetype": "text/x-python",
   "name": "python",
   "nbconvert_exporter": "python",
   "pygments_lexer": "ipython3",
   "version": "3.9.7"
  }
 },
 "nbformat": 4,
 "nbformat_minor": 5
}
