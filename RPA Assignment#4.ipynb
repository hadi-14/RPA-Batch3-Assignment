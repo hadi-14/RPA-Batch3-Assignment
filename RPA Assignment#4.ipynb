{
 "cells": [
  {
   "cell_type": "code",
   "execution_count": 16,
   "id": "6a181a84",
   "metadata": {},
   "outputs": [
    {
     "name": "stdout",
     "output_type": "stream",
     "text": [
      "Enter your email ID: danishumer1@gmail.com\n",
      "Enter your password: Danishumer1\n",
      "succesfully loged in\n"
     ]
    }
   ],
   "source": [
    "alphabet = ['A', 'B', 'C', 'D', 'E', 'F', 'G', 'H', 'I', 'J', 'K', 'L', 'M', 'N', 'O', 'P', 'Q', 'R', 'S', 'T', 'U', 'V', 'W', 'X', 'Y', 'Z']\n",
    "number = ['0', '1', '2', '3', '4', '5', '6', '7', '8', '9']\n",
    "\n",
    "emails_list = ['danishumer1@gmail.com','ahmedraza2@gmail.com','abdullahalvi3@gmail.com','hamzaahmed4@gmail.com','farazabbas5@gmail.com','zainbabur6@gmail.com','harisali7@gmail.com','sarimzahid8@gmail.com','bilalarshad9@gmail.com']\n",
    "passwords_list = ['Danishumer1', 'Ahmedraza2', 'Abdullahalvi3', 'Hamzaahmed4', 'Farazabbas5', 'Zainbabur6', 'Harisali7', 'Sarimzahid8', 'Bilalasrshad9']\n",
    "\n",
    "email_id = input(\"Enter your email ID: \")\n",
    "password = input(\"Enter your password: \")\n",
    "\n",
    "alpha = True\n",
    "num = True\n",
    "\n",
    "if email_id in emails_list:\n",
    "    #checks capital alphabets\n",
    "    for i in alphabet:\n",
    "        if i in password:\n",
    "            alpha = False\n",
    "            break\n",
    "    #checks number\n",
    "    for i in number:\n",
    "        if i in password:\n",
    "            num = False\n",
    "            break\n",
    "    if len(password) < 8:\n",
    "        print('Password is less than 8 characters')\n",
    "    elif alpha:\n",
    "        print('No capital letter in password')\n",
    "    elif num:\n",
    "        print('No number in password')\n",
    "    else:\n",
    "        for x in range(len(emails_list)):\n",
    "            if email_id == emails_list[x] and password == passwords_list[x]:\n",
    "                print('succesfully loged in')\n",
    "                break\n",
    "            elif x == len(emails_list) - 1:\n",
    "                print('incorrect password')\n",
    "else:\n",
    "    if '@' not in email_id:\n",
    "        print('@ not present')\n",
    "    elif '.com' not in email_id:\n",
    "        print('.com not present')\n",
    "    elif not email_id.endswith('.com'):\n",
    "        print('email doesnot ends with .com')\n",
    "    else:\n",
    "        print('email not registered')\n"
   ]
  },
  {
   "cell_type": "code",
   "execution_count": null,
   "id": "3b3f01e3",
   "metadata": {},
   "outputs": [],
   "source": []
  }
 ],
 "metadata": {
  "kernelspec": {
   "display_name": "Python 3 (ipykernel)",
   "language": "python",
   "name": "python3"
  },
  "language_info": {
   "codemirror_mode": {
    "name": "ipython",
    "version": 3
   },
   "file_extension": ".py",
   "mimetype": "text/x-python",
   "name": "python",
   "nbconvert_exporter": "python",
   "pygments_lexer": "ipython3",
   "version": "3.9.7"
  }
 },
 "nbformat": 4,
 "nbformat_minor": 5
}
