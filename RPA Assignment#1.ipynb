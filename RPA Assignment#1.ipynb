{
 "cells": [
  {
   "cell_type": "code",
   "execution_count": 5,
   "id": "8f4868c4",
   "metadata": {},
   "outputs": [
    {
     "name": "stdout",
     "output_type": "stream",
     "text": [
      "congratulation you got A+\n"
     ]
    }
   ],
   "source": [
    "marks = 400\n",
    "\n",
    "percentage = marks/5\n",
    "\n",
    "if percentage >= 80:\n",
    "    print(\"congratulation you got A+\")\n",
    "    \n",
    "elif percentage >= 70:\n",
    "    print(\"Congratulation you got A\")\n",
    "    \n",
    "elif percentage >= 60:\n",
    "    print(\"congratulation you got B\")\n",
    "    \n",
    "elif percentage >= 50:\n",
    "    print(\"Congratulation you got C\")\n",
    "    \n",
    "else:\n",
    "    print(\"you need to work hard you got D\")"
   ]
  }
 ],
 "metadata": {
  "kernelspec": {
   "display_name": "Python 3 (ipykernel)",
   "language": "python",
   "name": "python3"
  },
  "language_info": {
   "codemirror_mode": {
    "name": "ipython",
    "version": 3
   },
   "file_extension": ".py",
   "mimetype": "text/x-python",
   "name": "python",
   "nbconvert_exporter": "python",
   "pygments_lexer": "ipython3",
   "version": "3.9.7"
  }
 },
 "nbformat": 4,
 "nbformat_minor": 5
}
